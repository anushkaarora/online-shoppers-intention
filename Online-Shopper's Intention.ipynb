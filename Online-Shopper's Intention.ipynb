{
 "cells": [
  {
   "cell_type": "markdown",
   "id": "61082d60",
   "metadata": {},
   "source": [
    "### 1. Import the required libraries"
   ]
  },
  {
   "cell_type": "code",
   "execution_count": 108,
   "id": "taken-balance",
   "metadata": {},
   "outputs": [],
   "source": [
    "import numpy as np\n",
    "import pandas as pd\n",
    "import matplotlib.pyplot as plt \n",
    "from sklearn.decomposition import PCA \n",
    "import seaborn as sns \n",
    "from sklearn.preprocessing import StandardScaler\n",
    "from sklearn.cluster import KMeans \n",
    "from sklearn.model_selection import train_test_split\n",
    "from sklearn.linear_model import LogisticRegression\n",
    "from sklearn.metrics import accuracy_score, silhouette_score, confusion_matrix, classification_report\n"
   ]
  },
  {
   "cell_type": "markdown",
   "id": "ff99500b",
   "metadata": {},
   "source": [
    "### 2. Import the Dataset"
   ]
  },
  {
   "cell_type": "code",
   "execution_count": 2,
   "id": "valued-august",
   "metadata": {},
   "outputs": [
    {
     "data": {
      "text/html": [
       "<div>\n",
       "<style scoped>\n",
       "    .dataframe tbody tr th:only-of-type {\n",
       "        vertical-align: middle;\n",
       "    }\n",
       "\n",
       "    .dataframe tbody tr th {\n",
       "        vertical-align: top;\n",
       "    }\n",
       "\n",
       "    .dataframe thead th {\n",
       "        text-align: right;\n",
       "    }\n",
       "</style>\n",
       "<table border=\"1\" class=\"dataframe\">\n",
       "  <thead>\n",
       "    <tr style=\"text-align: right;\">\n",
       "      <th></th>\n",
       "      <th>Administrative</th>\n",
       "      <th>Administrative_Duration</th>\n",
       "      <th>Informational</th>\n",
       "      <th>Informational_Duration</th>\n",
       "      <th>ProductRelated</th>\n",
       "      <th>ProductRelated_Duration</th>\n",
       "      <th>BounceRates</th>\n",
       "      <th>ExitRates</th>\n",
       "      <th>PageValues</th>\n",
       "      <th>SpecialDay</th>\n",
       "      <th>Month</th>\n",
       "      <th>OperatingSystems</th>\n",
       "      <th>Browser</th>\n",
       "      <th>Region</th>\n",
       "      <th>TrafficType</th>\n",
       "      <th>VisitorType</th>\n",
       "      <th>Weekend</th>\n",
       "      <th>Revenue</th>\n",
       "    </tr>\n",
       "  </thead>\n",
       "  <tbody>\n",
       "    <tr>\n",
       "      <th>0</th>\n",
       "      <td>0</td>\n",
       "      <td>0.0</td>\n",
       "      <td>0</td>\n",
       "      <td>0.0</td>\n",
       "      <td>1</td>\n",
       "      <td>0.000000</td>\n",
       "      <td>0.20</td>\n",
       "      <td>0.20</td>\n",
       "      <td>0.0</td>\n",
       "      <td>0.0</td>\n",
       "      <td>Feb</td>\n",
       "      <td>1</td>\n",
       "      <td>1</td>\n",
       "      <td>1</td>\n",
       "      <td>1</td>\n",
       "      <td>Returning_Visitor</td>\n",
       "      <td>False</td>\n",
       "      <td>False</td>\n",
       "    </tr>\n",
       "    <tr>\n",
       "      <th>1</th>\n",
       "      <td>0</td>\n",
       "      <td>0.0</td>\n",
       "      <td>0</td>\n",
       "      <td>0.0</td>\n",
       "      <td>2</td>\n",
       "      <td>64.000000</td>\n",
       "      <td>0.00</td>\n",
       "      <td>0.10</td>\n",
       "      <td>0.0</td>\n",
       "      <td>0.0</td>\n",
       "      <td>Feb</td>\n",
       "      <td>2</td>\n",
       "      <td>2</td>\n",
       "      <td>1</td>\n",
       "      <td>2</td>\n",
       "      <td>Returning_Visitor</td>\n",
       "      <td>False</td>\n",
       "      <td>False</td>\n",
       "    </tr>\n",
       "    <tr>\n",
       "      <th>2</th>\n",
       "      <td>0</td>\n",
       "      <td>0.0</td>\n",
       "      <td>0</td>\n",
       "      <td>0.0</td>\n",
       "      <td>1</td>\n",
       "      <td>0.000000</td>\n",
       "      <td>0.20</td>\n",
       "      <td>0.20</td>\n",
       "      <td>0.0</td>\n",
       "      <td>0.0</td>\n",
       "      <td>Feb</td>\n",
       "      <td>4</td>\n",
       "      <td>1</td>\n",
       "      <td>9</td>\n",
       "      <td>3</td>\n",
       "      <td>Returning_Visitor</td>\n",
       "      <td>False</td>\n",
       "      <td>False</td>\n",
       "    </tr>\n",
       "    <tr>\n",
       "      <th>3</th>\n",
       "      <td>0</td>\n",
       "      <td>0.0</td>\n",
       "      <td>0</td>\n",
       "      <td>0.0</td>\n",
       "      <td>2</td>\n",
       "      <td>2.666667</td>\n",
       "      <td>0.05</td>\n",
       "      <td>0.14</td>\n",
       "      <td>0.0</td>\n",
       "      <td>0.0</td>\n",
       "      <td>Feb</td>\n",
       "      <td>3</td>\n",
       "      <td>2</td>\n",
       "      <td>2</td>\n",
       "      <td>4</td>\n",
       "      <td>Returning_Visitor</td>\n",
       "      <td>False</td>\n",
       "      <td>False</td>\n",
       "    </tr>\n",
       "    <tr>\n",
       "      <th>4</th>\n",
       "      <td>0</td>\n",
       "      <td>0.0</td>\n",
       "      <td>0</td>\n",
       "      <td>0.0</td>\n",
       "      <td>10</td>\n",
       "      <td>627.500000</td>\n",
       "      <td>0.02</td>\n",
       "      <td>0.05</td>\n",
       "      <td>0.0</td>\n",
       "      <td>0.0</td>\n",
       "      <td>Feb</td>\n",
       "      <td>3</td>\n",
       "      <td>3</td>\n",
       "      <td>1</td>\n",
       "      <td>4</td>\n",
       "      <td>Returning_Visitor</td>\n",
       "      <td>True</td>\n",
       "      <td>False</td>\n",
       "    </tr>\n",
       "  </tbody>\n",
       "</table>\n",
       "</div>"
      ],
      "text/plain": [
       "   Administrative  Administrative_Duration  Informational  \\\n",
       "0               0                      0.0              0   \n",
       "1               0                      0.0              0   \n",
       "2               0                      0.0              0   \n",
       "3               0                      0.0              0   \n",
       "4               0                      0.0              0   \n",
       "\n",
       "   Informational_Duration  ProductRelated  ProductRelated_Duration  \\\n",
       "0                     0.0               1                 0.000000   \n",
       "1                     0.0               2                64.000000   \n",
       "2                     0.0               1                 0.000000   \n",
       "3                     0.0               2                 2.666667   \n",
       "4                     0.0              10               627.500000   \n",
       "\n",
       "   BounceRates  ExitRates  PageValues  SpecialDay Month  OperatingSystems  \\\n",
       "0         0.20       0.20         0.0         0.0   Feb                 1   \n",
       "1         0.00       0.10         0.0         0.0   Feb                 2   \n",
       "2         0.20       0.20         0.0         0.0   Feb                 4   \n",
       "3         0.05       0.14         0.0         0.0   Feb                 3   \n",
       "4         0.02       0.05         0.0         0.0   Feb                 3   \n",
       "\n",
       "   Browser  Region  TrafficType        VisitorType  Weekend  Revenue  \n",
       "0        1       1            1  Returning_Visitor    False    False  \n",
       "1        2       1            2  Returning_Visitor    False    False  \n",
       "2        1       9            3  Returning_Visitor    False    False  \n",
       "3        2       2            4  Returning_Visitor    False    False  \n",
       "4        3       1            4  Returning_Visitor     True    False  "
      ]
     },
     "execution_count": 2,
     "metadata": {},
     "output_type": "execute_result"
    }
   ],
   "source": [
    "df = pd.read_csv('online_shoppers_intention.csv')\n",
    "df.head()"
   ]
  },
  {
   "cell_type": "code",
   "execution_count": 3,
   "id": "eligible-andrew",
   "metadata": {},
   "outputs": [],
   "source": [
    "df_new = df.copy()\n",
    "# make a copy of the dataset "
   ]
  },
  {
   "cell_type": "markdown",
   "id": "bb6d61fa",
   "metadata": {},
   "source": [
    "### Description about features "
   ]
  },
  {
   "cell_type": "markdown",
   "id": "1f198492",
   "metadata": {},
   "source": [
    "* Dataset consist of 10 numerical and 8 categorical features.\n",
    "\n",
    "* 'Revenue' is used as a class label.\n",
    "\n",
    "\n",
    "* \"Administrative\", \"Administrative Duration\", \"Informational\", \"Informational Duration\", \"Product Related\" and \"Product Related Duration\" represent the number of different types of pages visited by the visitor in that session and total time spent in each of these page categories.\n",
    "\n",
    "\n",
    "\n",
    "* The feature 'Bounce Rate' for a web page refers to the %age of visitors who enter the site from that page and leave('bounce') without triggering any request.\n",
    "\n",
    "\n",
    "\n",
    "* 'Page Value' feature represents the avg. value for a web page that user visited before completing the transaction.\n",
    "\n",
    "\n",
    "\n",
    "* 'Exit Rate' it is calculated as for all the pageviews to the page for all the pageviews to the page. "
   ]
  },
  {
   "cell_type": "markdown",
   "id": "e162841d",
   "metadata": {},
   "source": [
    "### 3. Outliers in the Dataset "
   ]
  },
  {
   "cell_type": "code",
   "execution_count": 4,
   "id": "professional-decision",
   "metadata": {},
   "outputs": [
    {
     "data": {
      "image/png": "[encoded data removed]",
      "text/plain": [
       "<Figure size 1080x432 with 1 Axes>"
      ]
     },
     "metadata": {
      "needs_background": "light"
     },
     "output_type": "display_data"
    }
   ],
   "source": [
    "plt.figure(figsize = (15,6))\n",
    "df_new.boxplot()\n",
    "plt.xticks(rotation = 90)\n",
    "plt.show()"
   ]
  },
  {
   "cell_type": "markdown",
   "id": "14545272",
   "metadata": {},
   "source": [
    "* Most of the outliers are present in the **ProductRelated_Duration**"
   ]
  },
  {
   "cell_type": "markdown",
   "id": "ff6c9be9",
   "metadata": {},
   "source": [
    "### 4. Null Values present in the dataset "
   ]
  },
  {
   "cell_type": "code",
   "execution_count": 5,
   "id": "vocal-vintage",
   "metadata": {},
   "outputs": [
    {
     "data": {
      "text/plain": [
       "Administrative             0\n",
       "Administrative_Duration    0\n",
       "Informational              0\n",
       "Informational_Duration     0\n",
       "ProductRelated             0\n",
       "ProductRelated_Duration    0\n",
       "BounceRates                0\n",
       "ExitRates                  0\n",
       "PageValues                 0\n",
       "SpecialDay                 0\n",
       "Month                      0\n",
       "OperatingSystems           0\n",
       "Browser                    0\n",
       "Region                     0\n",
       "TrafficType                0\n",
       "VisitorType                0\n",
       "Weekend                    0\n",
       "Revenue                    0\n",
       "dtype: int64"
      ]
     },
     "execution_count": 5,
     "metadata": {},
     "output_type": "execute_result"
    }
   ],
   "source": [
    "df_new.isnull().sum()"
   ]
  },
  {
   "cell_type": "markdown",
   "id": "cfa9c907",
   "metadata": {},
   "source": [
    "* There are no null values present in the dataset "
   ]
  },
  {
   "cell_type": "code",
   "execution_count": null,
   "id": "241a9047",
   "metadata": {},
   "outputs": [],
   "source": [
    "df_new['Revenue'] = [1 if i == True else 0 for i in df_new['Revenue']]"
   ]
  },
  {
   "cell_type": "markdown",
   "id": "dbf68745",
   "metadata": {},
   "source": [
    "### Categorical Variables "
   ]
  },
  {
   "cell_type": "code",
   "execution_count": 6,
   "id": "fossil-protest",
   "metadata": {},
   "outputs": [],
   "source": [
    "categorical_cols = df_new.select_dtypes(include = object)"
   ]
  },
  {
   "cell_type": "code",
   "execution_count": 7,
   "id": "a05f9f3e",
   "metadata": {},
   "outputs": [
    {
     "data": {
      "text/plain": [
       "Index(['Month', 'VisitorType'], dtype='object')"
      ]
     },
     "execution_count": 7,
     "metadata": {},
     "output_type": "execute_result"
    }
   ],
   "source": [
    "categorical_cols.columns"
   ]
  },
  {
   "cell_type": "markdown",
   "id": "094bc4a9",
   "metadata": {},
   "source": [
    "### Numerical Variables "
   ]
  },
  {
   "cell_type": "code",
   "execution_count": 8,
   "id": "eb20cce4",
   "metadata": {},
   "outputs": [],
   "source": [
    "numerical_cols = df_new.select_dtypes(include = np.number)"
   ]
  },
  {
   "cell_type": "code",
   "execution_count": 9,
   "id": "d3f3ce6a",
   "metadata": {},
   "outputs": [
    {
     "data": {
      "text/plain": [
       "Index(['Administrative', 'Administrative_Duration', 'Informational',\n",
       "       'Informational_Duration', 'ProductRelated', 'ProductRelated_Duration',\n",
       "       'BounceRates', 'ExitRates', 'PageValues', 'SpecialDay',\n",
       "       'OperatingSystems', 'Browser', 'Region', 'TrafficType'],\n",
       "      dtype='object')"
      ]
     },
     "execution_count": 9,
     "metadata": {},
     "output_type": "execute_result"
    }
   ],
   "source": [
    "numerical_cols.columns"
   ]
  },
  {
   "cell_type": "code",
   "execution_count": 43,
   "id": "7c7df225",
   "metadata": {},
   "outputs": [
    {
     "data": {
      "image/png": "[encoded data removed]",
      "text/plain": [
       "<Figure size 432x288 with 1 Axes>"
      ]
     },
     "metadata": {
      "needs_background": "light"
     },
     "output_type": "display_data"
    }
   ],
   "source": [
    "sns.countplot(x = df_new['Weekend'])\n",
    "plt.show()"
   ]
  },
  {
   "cell_type": "markdown",
   "id": "c2626fe4",
   "metadata": {},
   "source": [
    "* Inference: Most of the people visited the website on weekdays "
   ]
  },
  {
   "cell_type": "code",
   "execution_count": 47,
   "id": "e909ec36",
   "metadata": {},
   "outputs": [
    {
     "name": "stderr",
     "output_type": "stream",
     "text": [
      "C:\\Users\\Arpit\\anaconda3\\lib\\site-packages\\seaborn\\_decorators.py:36: FutureWarning: Pass the following variables as keyword args: x, y. From version 0.12, the only valid positional argument will be `data`, and passing other arguments without an explicit keyword will result in an error or misinterpretation.\n",
      "  warnings.warn(\n"
     ]
    },
    {
     "data": {
      "image/png": "[encoded data removed]",
      "text/plain": [
       "<Figure size 432x288 with 1 Axes>"
      ]
     },
     "metadata": {
      "needs_background": "light"
     },
     "output_type": "display_data"
    }
   ],
   "source": [
    "sns.scatterplot(df_new['BounceRates'], df_new['ExitRates'])\n",
    "plt.show()"
   ]
  },
  {
   "cell_type": "markdown",
   "id": "60fbc9e7",
   "metadata": {},
   "source": [
    "* Bounce Rate and Exit Rate have very positive correlation "
   ]
  },
  {
   "cell_type": "code",
   "execution_count": 87,
   "id": "6b5af125",
   "metadata": {},
   "outputs": [
    {
     "data": {
      "image/png": "[encoded data removed]",
      "text/plain": [
       "<Figure size 432x288 with 1 Axes>"
      ]
     },
     "metadata": {
      "needs_background": "light"
     },
     "output_type": "display_data"
    }
   ],
   "source": [
    "pd.crosstab(df_new['VisitorType'], df_new['Revenue']).plot(kind = 'bar')\n",
    "plt.show()"
   ]
  },
  {
   "cell_type": "markdown",
   "id": "c77fe993",
   "metadata": {},
   "source": [
    "* 'Others' category of visitors doesn't generate revenue at all \n",
    "* Only few visitors from 'Returning Visitor'  and 'New Visitor' category generates revenue. "
   ]
  },
  {
   "cell_type": "code",
   "execution_count": 91,
   "id": "a8c398fa",
   "metadata": {},
   "outputs": [
    {
     "data": {
      "image/png": "[encoded data removed]",
      "text/plain": [
       "<Figure size 432x288 with 1 Axes>"
      ]
     },
     "metadata": {
      "needs_background": "light"
     },
     "output_type": "display_data"
    }
   ],
   "source": [
    "pd.crosstab(df_new['Region'], df_new['Revenue']).plot(kind = 'bar')\n",
    "plt.show()"
   ]
  },
  {
   "cell_type": "markdown",
   "id": "bf5480a2",
   "metadata": {},
   "source": [
    "* Most of the customers who have generated revenue belong to Region 1 \n",
    "* Least number of customers who have generated revenue also belongs to Region 1"
   ]
  },
  {
   "cell_type": "code",
   "execution_count": 99,
   "id": "815ebb52",
   "metadata": {},
   "outputs": [
    {
     "data": {
      "image/png": "[encoded data removed]",
      "text/plain": [
       "<Figure size 432x288 with 1 Axes>"
      ]
     },
     "metadata": {
      "needs_background": "light"
     },
     "output_type": "display_data"
    }
   ],
   "source": [
    "pd.crosstab(df_new['Month'], df_new['Revenue']).plot(kind = 'bar')\n",
    "plt.show()"
   ]
  },
  {
   "cell_type": "markdown",
   "id": "2e2ef245",
   "metadata": {},
   "source": [
    "* Most of the revenue is generated in the month of November \n",
    "* Least revenue is generated in the month of May "
   ]
  },
  {
   "cell_type": "markdown",
   "id": "b4baa1ba",
   "metadata": {},
   "source": [
    "### Train, Test Split and Scaling of Data"
   ]
  },
  {
   "cell_type": "code",
   "execution_count": 11,
   "id": "9bd929ac",
   "metadata": {},
   "outputs": [],
   "source": [
    "X = df_new.drop('Revenue', axis = 1)\n",
    "y = df_new['Revenue']"
   ]
  },
  {
   "cell_type": "code",
   "execution_count": 110,
   "id": "9aed8799",
   "metadata": {},
   "outputs": [],
   "source": [
    "x_train,x_test,y_train,y_test = train_test_split(X,y, test_size = 0.3, random_state = 2, stratify = y)"
   ]
  },
  {
   "cell_type": "code",
   "execution_count": 111,
   "id": "05a6fbd3",
   "metadata": {},
   "outputs": [],
   "source": [
    "# fit_transform on train , numerical columns\n",
    "ss = StandardScaler()\n",
    "num_cols_train = x_train.select_dtypes(np.number)\n",
    "\n",
    "num_train = pd.DataFrame(ss.fit_transform(x_train.select_dtypes(np.number)), columns = num_cols_train.columns)"
   ]
  },
  {
   "cell_type": "code",
   "execution_count": 112,
   "id": "b109cd52",
   "metadata": {},
   "outputs": [],
   "source": [
    "# pd.get_dummies on x_train columns \n",
    "cat_cols_train = x_train.select_dtypes(exclude = np.number)\n",
    "cat_train = pd.get_dummies(cat_cols_train, drop_first = True).reset_index(drop = True)"
   ]
  },
  {
   "cell_type": "code",
   "execution_count": 113,
   "id": "6e274126",
   "metadata": {},
   "outputs": [],
   "source": [
    "x_train = pd.concat([num_train, cat_train], axis = 1)"
   ]
  },
  {
   "cell_type": "code",
   "execution_count": 114,
   "id": "0ad33e97",
   "metadata": {},
   "outputs": [],
   "source": [
    "# transform on test, numerical columns \n",
    "num_cols_test = x_test.select_dtypes(np.number)\n",
    "num_test = pd.DataFrame(ss.transform(x_test.select_dtypes(np.number)), columns = num_cols_train.columns)"
   ]
  },
  {
   "cell_type": "code",
   "execution_count": 115,
   "id": "e3774cb0",
   "metadata": {},
   "outputs": [],
   "source": [
    "# pd.get_dummies on x_test columns \n",
    "cat_cols_test = x_test.select_dtypes(exclude = np.number)\n",
    "cat_test = pd.get_dummies(cat_cols_test, drop_first = True).reset_index(drop = True)"
   ]
  },
  {
   "cell_type": "code",
   "execution_count": 116,
   "id": "22a5679f",
   "metadata": {},
   "outputs": [],
   "source": [
    "x_test = pd.concat([num_test, cat_test], axis = 1)"
   ]
  },
  {
   "cell_type": "code",
   "execution_count": 117,
   "id": "0efb0aca",
   "metadata": {},
   "outputs": [
    {
     "data": {
      "text/plain": [
       "((8631, 26), (3699, 26), (8631,), (3699,))"
      ]
     },
     "execution_count": 117,
     "metadata": {},
     "output_type": "execute_result"
    }
   ],
   "source": [
    "x_train.shape, x_test.shape,y_train.shape, y_test.shape"
   ]
  },
  {
   "cell_type": "markdown",
   "id": "cf247427",
   "metadata": {},
   "source": [
    "## Base Model "
   ]
  },
  {
   "cell_type": "code",
   "execution_count": 118,
   "id": "a31a0af4",
   "metadata": {},
   "outputs": [],
   "source": [
    "lr = LogisticRegression()\n",
    "model_base = lr.fit(x_train, y_train)\n",
    "y_pred_b = model_base.predict(x_test)"
   ]
  },
  {
   "cell_type": "code",
   "execution_count": 119,
   "id": "b20e4539",
   "metadata": {},
   "outputs": [
    {
     "name": "stdout",
     "output_type": "stream",
     "text": [
      "Accuracy Score: 0.89\n"
     ]
    }
   ],
   "source": [
    "print('Accuracy Score:',round(accuracy_score(y_test, y_pred_b),2))"
   ]
  },
  {
   "cell_type": "markdown",
   "id": "d8fd1009",
   "metadata": {},
   "source": [
    "### Applying PCA"
   ]
  },
  {
   "cell_type": "code",
   "execution_count": 122,
   "id": "fresh-yacht",
   "metadata": {},
   "outputs": [],
   "source": [
    "# pca using all the components \n",
    "pca = PCA()"
   ]
  },
  {
   "cell_type": "code",
   "execution_count": 123,
   "id": "6a733675",
   "metadata": {},
   "outputs": [
    {
     "data": {
      "text/plain": [
       "PCA()"
      ]
     },
     "execution_count": 123,
     "metadata": {},
     "output_type": "execute_result"
    }
   ],
   "source": [
    "pca.fit(x_train)"
   ]
  },
  {
   "cell_type": "code",
   "execution_count": 124,
   "id": "dad018d0",
   "metadata": {},
   "outputs": [],
   "source": [
    "total = sum(pca.explained_variance_)"
   ]
  },
  {
   "cell_type": "code",
   "execution_count": 125,
   "id": "86eec3ac",
   "metadata": {},
   "outputs": [],
   "source": [
    "exp_var = [ (i/total)*100 for i in sorted(pca.explained_variance_, reverse = True)]"
   ]
  },
  {
   "cell_type": "code",
   "execution_count": 127,
   "id": "b6af80bf",
   "metadata": {},
   "outputs": [],
   "source": [
    "cum_var = np.cumsum(exp_var)"
   ]
  },
  {
   "cell_type": "code",
   "execution_count": 128,
   "id": "d2717959",
   "metadata": {},
   "outputs": [
    {
     "data": {
      "text/plain": [
       "[<matplotlib.lines.Line2D at 0x21c1e271ee0>]"
      ]
     },
     "execution_count": 128,
     "metadata": {},
     "output_type": "execute_result"
    },
    {
     "data": {
      "image/png": "[encoded data removed]",
      "text/plain": [
       "<Figure size 432x288 with 1 Axes>"
      ]
     },
     "metadata": {
      "needs_background": "light"
     },
     "output_type": "display_data"
    }
   ],
   "source": [
    "plt.bar(range(26), exp_var)\n",
    "plt.step(range(26),cum_var)"
   ]
  },
  {
   "cell_type": "code",
   "execution_count": 129,
   "id": "afe66199",
   "metadata": {},
   "outputs": [
    {
     "data": {
      "text/plain": [
       "array([ 22.54833122,  33.69992439,  43.05400944,  50.37972263,\n",
       "        57.23864724,  63.6521249 ,  70.03888849,  76.16686135,\n",
       "        81.93451745,  86.81764848,  89.69671872,  92.00297277,\n",
       "        93.38080082,  94.55562054,  95.65749217,  96.65625169,\n",
       "        97.53147529,  98.26888604,  98.76967806,  99.17972711,\n",
       "        99.4423066 ,  99.67175527,  99.83403089,  99.94337176,\n",
       "        99.97691128, 100.        ])"
      ]
     },
     "execution_count": 129,
     "metadata": {},
     "output_type": "execute_result"
    }
   ],
   "source": [
    "cum_var\n",
    "# almost 92% of the variance is explained by first 12 components \n",
    "# so let's apply PCA using 12 components"
   ]
  },
  {
   "cell_type": "code",
   "execution_count": 130,
   "id": "b6eb1543",
   "metadata": {},
   "outputs": [
    {
     "data": {
      "text/plain": [
       "(8631, 26)"
      ]
     },
     "execution_count": 130,
     "metadata": {},
     "output_type": "execute_result"
    }
   ],
   "source": [
    "x_train.shape"
   ]
  },
  {
   "cell_type": "markdown",
   "id": "06921781",
   "metadata": {},
   "source": [
    "### PCA using 8 components"
   ]
  },
  {
   "cell_type": "code",
   "execution_count": 151,
   "id": "2ea7b382",
   "metadata": {},
   "outputs": [],
   "source": [
    "pca_1 = PCA(n_components= 8)\n",
    "pca_train = pca_1.fit_transform(x_train)\n",
    "exp_var_1 = [ (i/total)*100 for i in sorted(pca_1.explained_variance_, reverse = True)]\n",
    "\n",
    "# 8 PC components can be used instead of using 26 columns \n",
    "# Thus, curse of dimensionality is reduced"
   ]
  },
  {
   "cell_type": "code",
   "execution_count": 152,
   "id": "a8ecee9f",
   "metadata": {},
   "outputs": [],
   "source": [
    "pca_test = pca_1.transform(x_test)"
   ]
  },
  {
   "cell_type": "markdown",
   "id": "7202f029",
   "metadata": {},
   "source": [
    "### Base Model using Logistic Regression "
   ]
  },
  {
   "cell_type": "code",
   "execution_count": 153,
   "id": "ef61775d",
   "metadata": {},
   "outputs": [],
   "source": [
    "lr_1 = LogisticRegression()\n",
    "model_pca = lr_1.fit(pca_train, y_train)\n",
    "y_pred_pca = model_pca.predict(pca_test)"
   ]
  },
  {
   "cell_type": "code",
   "execution_count": 154,
   "id": "6f90559c",
   "metadata": {},
   "outputs": [
    {
     "name": "stdout",
     "output_type": "stream",
     "text": [
      "Accuracy Score using 8 PC Components: 0.88\n"
     ]
    }
   ],
   "source": [
    "print('Accuracy Score using 8 PC Components:',round(accuracy_score(y_test, y_pred_pca),2))"
   ]
  },
  {
   "cell_type": "markdown",
   "id": "99c0ee20",
   "metadata": {},
   "source": [
    "* So, instead of using 26 features, we can use only 8 PC components, and yet get the good accuracy."
   ]
  },
  {
   "cell_type": "code",
   "execution_count": 212,
   "id": "a1b80b3a",
   "metadata": {},
   "outputs": [
    {
     "name": "stdout",
     "output_type": "stream",
     "text": [
      "              precision    recall  f1-score   support\n",
      "\n",
      "           0       0.89      0.98      0.93      3127\n",
      "           1       0.74      0.35      0.47       572\n",
      "\n",
      "    accuracy                           0.88      3699\n",
      "   macro avg       0.81      0.66      0.70      3699\n",
      "weighted avg       0.87      0.88      0.86      3699\n",
      "\n"
     ]
    }
   ],
   "source": [
    "print(classification_report(y_test, y_pred_pca))"
   ]
  },
  {
   "cell_type": "markdown",
   "id": "3b6e9774",
   "metadata": {},
   "source": [
    "* We can use f1-score as evaluation metric, which gives a harmonic mean of Precision and recall."
   ]
  },
  {
   "cell_type": "code",
   "execution_count": 219,
   "id": "8d84eb54",
   "metadata": {},
   "outputs": [
    {
     "data": {
      "image/png": "[encoded data removed]",
      "text/plain": [
       "<Figure size 432x288 with 2 Axes>"
      ]
     },
     "metadata": {
      "needs_background": "light"
     },
     "output_type": "display_data"
    }
   ],
   "source": [
    "sns.heatmap(confusion_matrix(y_test, y_pred_pca), annot = True, fmt = 'd')\n",
    "plt.show()\n",
    "# 71 , revenue not generated but model predicted, that the revenue was generated ---> False Positive \n",
    "# 373 generated revenue , but model predicted, that the revenue was not generated. --> False Negative "
   ]
  },
  {
   "cell_type": "markdown",
   "id": "37df71de",
   "metadata": {},
   "source": [
    "### kmeans clustering , find optimum number of clusters using Elbow Method"
   ]
  },
  {
   "cell_type": "code",
   "execution_count": 155,
   "id": "04d3195b",
   "metadata": {},
   "outputs": [],
   "source": [
    "pca_df = pd.DataFrame(pca_train)\n",
    "# make a PCA DataFrame "
   ]
  },
  {
   "cell_type": "code",
   "execution_count": 156,
   "id": "technical-application",
   "metadata": {},
   "outputs": [
    {
     "data": {
      "image/png": "[encoded data removed]",
      "text/plain": [
       "<Figure size 432x288 with 1 Axes>"
      ]
     },
     "metadata": {
      "needs_background": "light"
     },
     "output_type": "display_data"
    }
   ],
   "source": [
    "cluster_range = range(1,20)\n",
    "cluster_errors = []\n",
    "inertia=[] # empty list\n",
    "\n",
    "for k in range(1,10):\n",
    "    kmeans=KMeans(n_clusters=k)\n",
    "    kmeans.fit(pca_df)\n",
    "    inertia.append(kmeans.inertia_)\n",
    "plt.plot(range(1,10),inertia,color='red')  \n",
    "plt.show()"
   ]
  },
  {
   "cell_type": "markdown",
   "id": "31c1a94e",
   "metadata": {},
   "source": [
    "* **Appropriate number of clusters = 3, according to Elbow Plot**"
   ]
  },
  {
   "cell_type": "code",
   "execution_count": 157,
   "id": "5597c1e5",
   "metadata": {},
   "outputs": [
    {
     "data": {
      "text/plain": [
       "False    10422\n",
       "True      1908\n",
       "Name: Revenue, dtype: int64"
      ]
     },
     "execution_count": 157,
     "metadata": {},
     "output_type": "execute_result"
    }
   ],
   "source": [
    "df['Revenue'].value_counts()"
   ]
  },
  {
   "cell_type": "code",
   "execution_count": 158,
   "id": "04f8f4ab",
   "metadata": {},
   "outputs": [
    {
     "name": "stdout",
     "output_type": "stream",
     "text": [
      "Silhouette Score: 0.36\n",
      "0    6718\n",
      "2    1162\n",
      "1     751\n",
      "Name: label, dtype: int64\n"
     ]
    }
   ],
   "source": [
    "kmeans=KMeans(n_clusters=3)\n",
    "kmeans_v2=kmeans.fit(pca_df)\n",
    "print('Silhouette Score:',round(silhouette_score(pca_df,kmeans_v2.labels_),2))\n",
    "df_pca_kmeans_v2=pca_df.copy()\n",
    "df_pca_kmeans_v2['label']=kmeans_v2.labels_\n",
    "print(df_pca_kmeans_v2['label'].value_counts())"
   ]
  },
  {
   "cell_type": "markdown",
   "id": "cbc25114",
   "metadata": {},
   "source": [
    "## Analysis of clusters "
   ]
  },
  {
   "cell_type": "code",
   "execution_count": 202,
   "id": "772eb75f",
   "metadata": {},
   "outputs": [
    {
     "data": {
      "image/png": "[encoded data removed]",
      "text/plain": [
       "<Figure size 432x288 with 1 Axes>"
      ]
     },
     "metadata": {
      "needs_background": "light"
     },
     "output_type": "display_data"
    }
   ],
   "source": [
    "cluster_range = range(1,20)\n",
    "cluster_errors = []\n",
    "inertia=[] # empty list\n",
    "\n",
    "for k in range(1,10):\n",
    "    kmeans=KMeans(n_clusters=k)\n",
    "    kmeans.fit(x_train)\n",
    "    inertia.append(kmeans.inertia_)\n",
    "plt.plot(range(1,10),inertia,color='red')  \n",
    "plt.show()"
   ]
  },
  {
   "cell_type": "code",
   "execution_count": 205,
   "id": "981766bb",
   "metadata": {},
   "outputs": [
    {
     "name": "stdout",
     "output_type": "stream",
     "text": [
      "Silhouette Score: 0.28\n",
      "1    6714\n",
      "2    1162\n",
      "0     755\n",
      "Name: label, dtype: int64\n"
     ]
    }
   ],
   "source": [
    "kmeans=KMeans(n_clusters=3)\n",
    "kmeans_v1=kmeans.fit(x_train)\n",
    "print('Silhouette Score:',round(silhouette_score(x_train,kmeans_v1.labels_),2))\n",
    "df_pca_kmeans_v1=x_train.copy()\n",
    "df_pca_kmeans_v1['label']=kmeans_v1.labels_\n",
    "print(df_pca_kmeans_v1['label'].value_counts())"
   ]
  },
  {
   "cell_type": "code",
   "execution_count": 206,
   "id": "387c259d",
   "metadata": {},
   "outputs": [
    {
     "data": {
      "text/html": [
       "<div>\n",
       "<style scoped>\n",
       "    .dataframe tbody tr th:only-of-type {\n",
       "        vertical-align: middle;\n",
       "    }\n",
       "\n",
       "    .dataframe tbody tr th {\n",
       "        vertical-align: top;\n",
       "    }\n",
       "\n",
       "    .dataframe thead th {\n",
       "        text-align: right;\n",
       "    }\n",
       "</style>\n",
       "<table border=\"1\" class=\"dataframe\">\n",
       "  <thead>\n",
       "    <tr style=\"text-align: right;\">\n",
       "      <th></th>\n",
       "      <th>Administrative</th>\n",
       "      <th>Administrative_Duration</th>\n",
       "      <th>Informational</th>\n",
       "      <th>Informational_Duration</th>\n",
       "      <th>ProductRelated</th>\n",
       "      <th>ProductRelated_Duration</th>\n",
       "      <th>BounceRates</th>\n",
       "      <th>ExitRates</th>\n",
       "      <th>PageValues</th>\n",
       "      <th>SpecialDay</th>\n",
       "      <th>...</th>\n",
       "      <th>Month_Jul</th>\n",
       "      <th>Month_June</th>\n",
       "      <th>Month_Mar</th>\n",
       "      <th>Month_May</th>\n",
       "      <th>Month_Nov</th>\n",
       "      <th>Month_Oct</th>\n",
       "      <th>Month_Sep</th>\n",
       "      <th>VisitorType_Other</th>\n",
       "      <th>VisitorType_Returning_Visitor</th>\n",
       "      <th>label</th>\n",
       "    </tr>\n",
       "  </thead>\n",
       "  <tbody>\n",
       "    <tr>\n",
       "      <th>0</th>\n",
       "      <td>0.805234</td>\n",
       "      <td>0.100670</td>\n",
       "      <td>-0.403497</td>\n",
       "      <td>-0.246661</td>\n",
       "      <td>2.178879</td>\n",
       "      <td>2.573343</td>\n",
       "      <td>-0.457057</td>\n",
       "      <td>-0.798039</td>\n",
       "      <td>1.234358</td>\n",
       "      <td>-0.311213</td>\n",
       "      <td>...</td>\n",
       "      <td>0</td>\n",
       "      <td>0</td>\n",
       "      <td>0</td>\n",
       "      <td>0</td>\n",
       "      <td>1</td>\n",
       "      <td>0</td>\n",
       "      <td>0</td>\n",
       "      <td>0</td>\n",
       "      <td>1</td>\n",
       "      <td>2</td>\n",
       "    </tr>\n",
       "    <tr>\n",
       "      <th>1</th>\n",
       "      <td>0.204077</td>\n",
       "      <td>1.913804</td>\n",
       "      <td>-0.403497</td>\n",
       "      <td>-0.246661</td>\n",
       "      <td>-0.634719</td>\n",
       "      <td>-0.569104</td>\n",
       "      <td>-0.457057</td>\n",
       "      <td>-0.658201</td>\n",
       "      <td>-0.317942</td>\n",
       "      <td>-0.311213</td>\n",
       "      <td>...</td>\n",
       "      <td>0</td>\n",
       "      <td>0</td>\n",
       "      <td>1</td>\n",
       "      <td>0</td>\n",
       "      <td>0</td>\n",
       "      <td>0</td>\n",
       "      <td>0</td>\n",
       "      <td>0</td>\n",
       "      <td>0</td>\n",
       "      <td>1</td>\n",
       "    </tr>\n",
       "    <tr>\n",
       "      <th>2</th>\n",
       "      <td>-0.697658</td>\n",
       "      <td>-0.454945</td>\n",
       "      <td>-0.403497</td>\n",
       "      <td>-0.246661</td>\n",
       "      <td>-0.542470</td>\n",
       "      <td>-0.337324</td>\n",
       "      <td>0.056047</td>\n",
       "      <td>-0.170295</td>\n",
       "      <td>-0.317942</td>\n",
       "      <td>-0.311213</td>\n",
       "      <td>...</td>\n",
       "      <td>0</td>\n",
       "      <td>0</td>\n",
       "      <td>1</td>\n",
       "      <td>0</td>\n",
       "      <td>0</td>\n",
       "      <td>0</td>\n",
       "      <td>0</td>\n",
       "      <td>0</td>\n",
       "      <td>1</td>\n",
       "      <td>1</td>\n",
       "    </tr>\n",
       "    <tr>\n",
       "      <th>3</th>\n",
       "      <td>-0.397080</td>\n",
       "      <td>-0.345791</td>\n",
       "      <td>-0.403497</td>\n",
       "      <td>-0.246661</td>\n",
       "      <td>-0.311847</td>\n",
       "      <td>-0.060552</td>\n",
       "      <td>0.243370</td>\n",
       "      <td>-0.155706</td>\n",
       "      <td>0.664561</td>\n",
       "      <td>-0.311213</td>\n",
       "      <td>...</td>\n",
       "      <td>0</td>\n",
       "      <td>0</td>\n",
       "      <td>0</td>\n",
       "      <td>0</td>\n",
       "      <td>1</td>\n",
       "      <td>0</td>\n",
       "      <td>0</td>\n",
       "      <td>0</td>\n",
       "      <td>1</td>\n",
       "      <td>1</td>\n",
       "    </tr>\n",
       "    <tr>\n",
       "      <th>4</th>\n",
       "      <td>-0.096501</td>\n",
       "      <td>-0.336789</td>\n",
       "      <td>-0.403497</td>\n",
       "      <td>-0.246661</td>\n",
       "      <td>-0.104287</td>\n",
       "      <td>-0.262197</td>\n",
       "      <td>-0.310456</td>\n",
       "      <td>-0.593363</td>\n",
       "      <td>-0.317942</td>\n",
       "      <td>3.657870</td>\n",
       "      <td>...</td>\n",
       "      <td>0</td>\n",
       "      <td>0</td>\n",
       "      <td>0</td>\n",
       "      <td>1</td>\n",
       "      <td>0</td>\n",
       "      <td>0</td>\n",
       "      <td>0</td>\n",
       "      <td>0</td>\n",
       "      <td>1</td>\n",
       "      <td>1</td>\n",
       "    </tr>\n",
       "  </tbody>\n",
       "</table>\n",
       "<p>5 rows × 27 columns</p>\n",
       "</div>"
      ],
      "text/plain": [
       "   Administrative  Administrative_Duration  Informational  \\\n",
       "0        0.805234                 0.100670      -0.403497   \n",
       "1        0.204077                 1.913804      -0.403497   \n",
       "2       -0.697658                -0.454945      -0.403497   \n",
       "3       -0.397080                -0.345791      -0.403497   \n",
       "4       -0.096501                -0.336789      -0.403497   \n",
       "\n",
       "   Informational_Duration  ProductRelated  ProductRelated_Duration  \\\n",
       "0               -0.246661        2.178879                 2.573343   \n",
       "1               -0.246661       -0.634719                -0.569104   \n",
       "2               -0.246661       -0.542470                -0.337324   \n",
       "3               -0.246661       -0.311847                -0.060552   \n",
       "4               -0.246661       -0.104287                -0.262197   \n",
       "\n",
       "   BounceRates  ExitRates  PageValues  SpecialDay  ...  Month_Jul  Month_June  \\\n",
       "0    -0.457057  -0.798039    1.234358   -0.311213  ...          0           0   \n",
       "1    -0.457057  -0.658201   -0.317942   -0.311213  ...          0           0   \n",
       "2     0.056047  -0.170295   -0.317942   -0.311213  ...          0           0   \n",
       "3     0.243370  -0.155706    0.664561   -0.311213  ...          0           0   \n",
       "4    -0.310456  -0.593363   -0.317942    3.657870  ...          0           0   \n",
       "\n",
       "   Month_Mar  Month_May  Month_Nov  Month_Oct  Month_Sep  VisitorType_Other  \\\n",
       "0          0          0          1          0          0                  0   \n",
       "1          1          0          0          0          0                  0   \n",
       "2          1          0          0          0          0                  0   \n",
       "3          0          0          1          0          0                  0   \n",
       "4          0          1          0          0          0                  0   \n",
       "\n",
       "   VisitorType_Returning_Visitor  label  \n",
       "0                              1      2  \n",
       "1                              0      1  \n",
       "2                              1      1  \n",
       "3                              1      1  \n",
       "4                              1      1  \n",
       "\n",
       "[5 rows x 27 columns]"
      ]
     },
     "execution_count": 206,
     "metadata": {},
     "output_type": "execute_result"
    }
   ],
   "source": [
    "df_pca_kmeans_v1.head()"
   ]
  },
  {
   "cell_type": "code",
   "execution_count": 208,
   "id": "c17b6aac",
   "metadata": {},
   "outputs": [
    {
     "data": {
      "image/png": "[encoded data removed]",
      "text/plain": [
       "<Figure size 432x288 with 1 Axes>"
      ]
     },
     "metadata": {
      "needs_background": "light"
     },
     "output_type": "display_data"
    }
   ],
   "source": [
    "\n",
    "sns.scatterplot(x = df_new['Administrative_Duration'], y = df_new['BounceRates'], hue = df_new['Revenue'])\n",
    "plt.show()"
   ]
  },
  {
   "cell_type": "markdown",
   "id": "5547bff9",
   "metadata": {},
   "source": [
    "* Most of the customers doesn't generate any revenue.\n",
    "* Very less customers, who have low Adminstrative duration and low Bounce Rate, generate the revenue."
   ]
  },
  {
   "cell_type": "code",
   "execution_count": 207,
   "id": "2c742fdd",
   "metadata": {},
   "outputs": [
    {
     "data": {
      "image/png": "[encoded data removed]",
      "text/plain": [
       "<Figure size 432x288 with 1 Axes>"
      ]
     },
     "metadata": {
      "needs_background": "light"
     },
     "output_type": "display_data"
    }
   ],
   "source": [
    "sns.scatterplot(x = df_pca_kmeans_v1['Administrative_Duration'], y = df_pca_kmeans_v1['BounceRates'], hue = df_pca_kmeans_v1['label'])\n",
    "plt.show()"
   ]
  },
  {
   "cell_type": "markdown",
   "id": "6a2a12f8",
   "metadata": {},
   "source": [
    " * By, Looking at this Clustering plot, we can say that the customers who spent a longer administrative duration in a website are very less likely to bounce from the website. \n",
    " \n",
    "* Cluster 2 represent the interested customers, who generate the revenue. \n",
    "\n",
    "* Cluster 0 represents the General Customers \n",
    "\n",
    "* Cluster 1 represents the uninterested customers, who doesn't generate revenue at all."
   ]
  }
 ],
 "metadata": {
  "kernelspec": {
   "display_name": "Python 3",
   "language": "python",
   "name": "python3"
  },
  "language_info": {
   "codemirror_mode": {
    "name": "ipython",
    "version": 3
   },
   "file_extension": ".py",
   "mimetype": "text/x-python",
   "name": "python",
   "nbconvert_exporter": "python",
   "pygments_lexer": "ipython3",
   "version": "3.8.8"
  }
 },
 "nbformat": 4,
 "nbformat_minor": 5
}
